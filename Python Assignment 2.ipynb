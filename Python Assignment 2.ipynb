{
 "cells": [
  {
   "cell_type": "markdown",
   "id": "faa1ee7f",
   "metadata": {},
   "source": [
    "# Python Assignment - 2\n",
    "Total - 30 marks"
   ]
  },
  {
   "cell_type": "markdown",
   "id": "ce484096",
   "metadata": {},
   "source": [
    "1. Create a list of student and their subjects and then print the count of the subjects each student is having."
   ]
  },
  {
   "cell_type": "raw",
   "id": "4713a6c6",
   "metadata": {},
   "source": [
    "Ex: List should be of the this format [('Justin', ['Math', 'CompSci']), ('Eden', ['CompSci', 'Accounting', 'Economics'])]\n",
    "\n",
    "and the output be like,\n",
    "\n",
    "Justin takes 2 subjects Eden takes 3 subjects"
   ]
  },
  {
   "cell_type": "code",
   "execution_count": 2,
   "id": "a1c4bb3b",
   "metadata": {},
   "outputs": [
    {
     "name": "stdout",
     "output_type": "stream",
     "text": [
      "Justin takes 2 subjects\n",
      "Eden takes 3 subjects\n"
     ]
    }
   ],
   "source": [
    "students = [('Justin', ['Math', 'CompSci']), ('Eden', ['CompSci', 'Accounting', 'Economics'])]\n",
    "for student in students:\n",
    "    name = student[0]\n",
    "    subjects = student[1]\n",
    "    count = len(subjects)\n",
    "    print(f\"{name} takes {count} subjects\")"
   ]
  },
  {
   "cell_type": "markdown",
   "id": "8b686ac9",
   "metadata": {},
   "source": [
    "2. Count the total number of digits in a number (ex: A mobile number)"
   ]
  },
  {
   "cell_type": "raw",
   "id": "c06a36c3",
   "metadata": {},
   "source": [
    "Ex: number be like some random mobile number,\n",
    "\n",
    "9848000000\n",
    "\n",
    "the count of the this should be 10"
   ]
  },
  {
   "cell_type": "code",
   "execution_count": 3,
   "id": "7a96cd1e",
   "metadata": {},
   "outputs": [],
   "source": [
    "def count_digits(number):\n",
    "    digits = len(str(number))\n",
    "    return digits"
   ]
  },
  {
   "cell_type": "code",
   "execution_count": 4,
   "id": "57ac8fd6",
   "metadata": {},
   "outputs": [
    {
     "name": "stdout",
     "output_type": "stream",
     "text": [
      "10\n"
     ]
    }
   ],
   "source": [
    "print(count_digits(8698090311))"
   ]
  },
  {
   "cell_type": "markdown",
   "id": "fcca5f0a",
   "metadata": {},
   "source": [
    "3. Create a for loop that prompts the user for a skill 3 times, then print the appended skills."
   ]
  },
  {
   "cell_type": "code",
   "execution_count": 1,
   "id": "fb2942d7",
   "metadata": {},
   "outputs": [
    {
     "name": "stdout",
     "output_type": "stream",
     "text": [
      "Enter a skill: python\n",
      "Appended skills: ['python']\n",
      "Enter a skill: SQL\n",
      "Appended skills: ['python', 'SQL']\n",
      "Enter a skill: Machine Learning\n",
      "Appended skills: ['python', 'SQL', 'Machine Learning']\n"
     ]
    }
   ],
   "source": [
    "skills = []\n",
    "for _ in range(3):\n",
    "    skill = input(\"Enter a skill: \")\n",
    "    skills.append(skill)\n",
    "    print(\"Appended skills:\", skills)"
   ]
  },
  {
   "cell_type": "markdown",
   "id": "921b28f0",
   "metadata": {},
   "source": [
    "4. Define your commercial computation program with hourly rate for usual timings and extra for overtime. Create a function called commercials_calculator which takes two parameters (hours and rate)."
   ]
  },
  {
   "cell_type": "markdown",
   "id": "6aa5a81b",
   "metadata": {},
   "source": [
    "Enter Hours: 45\n",
    "\n",
    "Enter Rate: 10\n",
    "\n",
    "Pay: 475.0"
   ]
  },
  {
   "cell_type": "code",
   "execution_count": 1,
   "id": "8079b7f0",
   "metadata": {},
   "outputs": [
    {
     "name": "stdout",
     "output_type": "stream",
     "text": [
      "475.0\n"
     ]
    }
   ],
   "source": [
    "def commercials_calculator(hours, rate):\n",
    "    overtime_rate = 1.5 * rate\n",
    "    if hours > 40:\n",
    "        regular_pay = 40 * rate\n",
    "        overtime_pay = (hours - 40) * overtime_rate\n",
    "        pay = regular_pay + overtime_pay\n",
    "    else:\n",
    "        pay = hours * rate\n",
    "    return pay\n",
    "print(commercials_calculator(45, 10))"
   ]
  },
  {
   "cell_type": "code",
   "execution_count": 3,
   "id": "410b8674",
   "metadata": {},
   "outputs": [
    {
     "name": "stdout",
     "output_type": "stream",
     "text": [
      "450\n"
     ]
    }
   ],
   "source": [
    "print(commercials_calculator(30,15))"
   ]
  },
  {
   "cell_type": "code",
   "execution_count": 4,
   "id": "0f4dff11",
   "metadata": {},
   "outputs": [
    {
     "name": "stdout",
     "output_type": "stream",
     "text": [
      "1100.0\n"
     ]
    }
   ],
   "source": [
    "print(commercials_calculator(50,20))"
   ]
  },
  {
   "cell_type": "code",
   "execution_count": null,
   "id": "cd16b01f",
   "metadata": {},
   "outputs": [],
   "source": []
  }
 ],
 "metadata": {
  "kernelspec": {
   "display_name": "Python 3 (ipykernel)",
   "language": "python",
   "name": "python3"
  },
  "language_info": {
   "codemirror_mode": {
    "name": "ipython",
    "version": 3
   },
   "file_extension": ".py",
   "mimetype": "text/x-python",
   "name": "python",
   "nbconvert_exporter": "python",
   "pygments_lexer": "ipython3",
   "version": "3.11.5"
  }
 },
 "nbformat": 4,
 "nbformat_minor": 5
}
