{
 "cells": [
  {
   "cell_type": "markdown",
   "id": "707eb837",
   "metadata": {},
   "source": [
    "# Python Assignment - 1\n",
    "Total 30 marks"
   ]
  },
  {
   "cell_type": "raw",
   "id": "2cd45659",
   "metadata": {},
   "source": [
    "# Variables and Data Types"
   ]
  },
  {
   "cell_type": "code",
   "execution_count": null,
   "id": "bde58ce1",
   "metadata": {},
   "outputs": [],
   "source": [
    "Exercise 1 a) Create four variables and assign values with different data types to them"
   ]
  },
  {
   "cell_type": "code",
   "execution_count": null,
   "id": "e88f9579",
   "metadata": {},
   "outputs": [],
   "source": [
    "#int, float, String, boolean"
   ]
  },
  {
   "cell_type": "markdown",
   "id": "488f3497",
   "metadata": {},
   "source": [
    "int"
   ]
  },
  {
   "cell_type": "code",
   "execution_count": 1,
   "id": "fa8a6598",
   "metadata": {},
   "outputs": [
    {
     "data": {
      "text/plain": [
       "5"
      ]
     },
     "execution_count": 1,
     "metadata": {},
     "output_type": "execute_result"
    }
   ],
   "source": [
    "int (5)"
   ]
  },
  {
   "cell_type": "markdown",
   "id": "e0c12c30",
   "metadata": {},
   "source": [
    "float"
   ]
  },
  {
   "cell_type": "code",
   "execution_count": 2,
   "id": "e960cbfd",
   "metadata": {},
   "outputs": [
    {
     "data": {
      "text/plain": [
       "13.5"
      ]
     },
     "execution_count": 2,
     "metadata": {},
     "output_type": "execute_result"
    }
   ],
   "source": [
    "float (13.5)"
   ]
  },
  {
   "cell_type": "markdown",
   "id": "2d871967",
   "metadata": {},
   "source": [
    "srting"
   ]
  },
  {
   "cell_type": "code",
   "execution_count": 3,
   "id": "f0542ee4",
   "metadata": {},
   "outputs": [
    {
     "data": {
      "text/plain": [
       "'Hrishikesh'"
      ]
     },
     "execution_count": 3,
     "metadata": {},
     "output_type": "execute_result"
    }
   ],
   "source": [
    "\"Hrishikesh\""
   ]
  },
  {
   "cell_type": "markdown",
   "id": "fb6e3c81",
   "metadata": {},
   "source": [
    "boolean"
   ]
  },
  {
   "cell_type": "code",
   "execution_count": 4,
   "id": "c8f4f246",
   "metadata": {},
   "outputs": [],
   "source": [
    "is_sunny = True\n",
    "is_raining = False"
   ]
  },
  {
   "cell_type": "code",
   "execution_count": 5,
   "id": "eb686522",
   "metadata": {},
   "outputs": [
    {
     "name": "stdout",
     "output_type": "stream",
     "text": [
      "It's sunny outside. Enjoy the weather!\n"
     ]
    }
   ],
   "source": [
    "if is_sunny:\n",
    "    print(\"It's sunny outside. Enjoy the weather!\")\n",
    "else:\n",
    "    print(\"It's not sunny today. Carry an umbrella, just in case.\")"
   ]
  },
  {
   "cell_type": "markdown",
   "id": "26429d4d",
   "metadata": {},
   "source": [
    "Exercise 1 b) Print the variables using Python's built-in function print(String)"
   ]
  },
  {
   "cell_type": "code",
   "execution_count": 6,
   "id": "fa2bab87",
   "metadata": {},
   "outputs": [],
   "source": [
    "variable = \"Hello,World\""
   ]
  },
  {
   "cell_type": "code",
   "execution_count": 7,
   "id": "24449b63",
   "metadata": {},
   "outputs": [
    {
     "name": "stdout",
     "output_type": "stream",
     "text": [
      "Hello,World\n"
     ]
    }
   ],
   "source": [
    "print(variable)"
   ]
  },
  {
   "cell_type": "markdown",
   "id": "62e85676",
   "metadata": {},
   "source": [
    "Exercise 1 c) Print the data type of each variable using Python's built-in function type()"
   ]
  },
  {
   "cell_type": "code",
   "execution_count": 8,
   "id": "9cdb18d9",
   "metadata": {},
   "outputs": [
    {
     "data": {
      "text/plain": [
       "int"
      ]
     },
     "execution_count": 8,
     "metadata": {},
     "output_type": "execute_result"
    }
   ],
   "source": [
    "a = 3 \n",
    "type (a)"
   ]
  },
  {
   "cell_type": "code",
   "execution_count": 9,
   "id": "066105d8",
   "metadata": {},
   "outputs": [
    {
     "data": {
      "text/plain": [
       "float"
      ]
     },
     "execution_count": 9,
     "metadata": {},
     "output_type": "execute_result"
    }
   ],
   "source": [
    "b = 2.12\n",
    "type(b)"
   ]
  },
  {
   "cell_type": "code",
   "execution_count": 10,
   "id": "ae0d906c",
   "metadata": {},
   "outputs": [
    {
     "data": {
      "text/plain": [
       "str"
      ]
     },
     "execution_count": 10,
     "metadata": {},
     "output_type": "execute_result"
    }
   ],
   "source": [
    "c = \"Hrishikesh\"\n",
    "type(c)"
   ]
  },
  {
   "cell_type": "code",
   "execution_count": 12,
   "id": "9c0ee185",
   "metadata": {},
   "outputs": [
    {
     "data": {
      "text/plain": [
       "bool"
      ]
     },
     "execution_count": 12,
     "metadata": {},
     "output_type": "execute_result"
    }
   ],
   "source": [
    "d = True\n",
    "type(d)"
   ]
  },
  {
   "cell_type": "markdown",
   "id": "5abfa768",
   "metadata": {},
   "source": [
    "Exercise 2 How do we use variables? Explore with arithmetic operators (+, -, *, /)!"
   ]
  },
  {
   "cell_type": "code",
   "execution_count": 13,
   "id": "c67070a7",
   "metadata": {},
   "outputs": [
    {
     "name": "stdout",
     "output_type": "stream",
     "text": [
      "14\n"
     ]
    }
   ],
   "source": [
    "# Example\n",
    "first_value = 6\n",
    "second_value = 8\n",
    "\n",
    "result = first_value + second_value\n",
    "print(result)"
   ]
  },
  {
   "cell_type": "code",
   "execution_count": 15,
   "id": "f9becd8d",
   "metadata": {},
   "outputs": [
    {
     "name": "stdout",
     "output_type": "stream",
     "text": [
      "960000\n"
     ]
    }
   ],
   "source": [
    "# Example\n",
    "salary = 80000\n",
    "months = 12\n",
    "\n",
    "Annual_salary = salary * months\n",
    "print(Annual_salary)\n"
   ]
  },
  {
   "cell_type": "code",
   "execution_count": 16,
   "id": "8c23f9a0",
   "metadata": {},
   "outputs": [
    {
     "name": "stdout",
     "output_type": "stream",
     "text": [
      "-5\n"
     ]
    }
   ],
   "source": [
    "present = 65\n",
    "total_students = 70\n",
    "\n",
    "upsent_students = present - total_students\n",
    "print(upsent_students)"
   ]
  },
  {
   "cell_type": "code",
   "execution_count": 17,
   "id": "a00ffacc",
   "metadata": {},
   "outputs": [
    {
     "name": "stdout",
     "output_type": "stream",
     "text": [
      "35000.0\n"
     ]
    }
   ],
   "source": [
    "annual_salary = 420000\n",
    "months = 12\n",
    "\n",
    "salary = annual_salary / months\n",
    "print(salary)"
   ]
  },
  {
   "cell_type": "markdown",
   "id": "fe2e3ecc",
   "metadata": {},
   "source": [
    "Example: Lists"
   ]
  },
  {
   "cell_type": "code",
   "execution_count": 18,
   "id": "3a4670aa",
   "metadata": {},
   "outputs": [],
   "source": [
    "fruits = ['orange', 'apple', 'pear', 'banana', 'kiwi', 'mango', 'grapes']"
   ]
  },
  {
   "cell_type": "code",
   "execution_count": 19,
   "id": "7338f364",
   "metadata": {},
   "outputs": [
    {
     "data": {
      "text/plain": [
       "'orange'"
      ]
     },
     "execution_count": 19,
     "metadata": {},
     "output_type": "execute_result"
    }
   ],
   "source": [
    "fruits[0]"
   ]
  },
  {
   "cell_type": "code",
   "execution_count": 20,
   "id": "5543b834",
   "metadata": {},
   "outputs": [
    {
     "data": {
      "text/plain": [
       "'apple'"
      ]
     },
     "execution_count": 20,
     "metadata": {},
     "output_type": "execute_result"
    }
   ],
   "source": [
    "fruits[1]"
   ]
  },
  {
   "cell_type": "code",
   "execution_count": 21,
   "id": "38135bde",
   "metadata": {},
   "outputs": [
    {
     "data": {
      "text/plain": [
       "'grapes'"
      ]
     },
     "execution_count": 21,
     "metadata": {},
     "output_type": "execute_result"
    }
   ],
   "source": [
    "fruits[-1]"
   ]
  },
  {
   "cell_type": "markdown",
   "id": "a00e3d66",
   "metadata": {},
   "source": [
    "We can also specify a range of indexes specifying where to start and end the range"
   ]
  },
  {
   "cell_type": "code",
   "execution_count": 22,
   "id": "523bc1c3",
   "metadata": {},
   "outputs": [
    {
     "data": {
      "text/plain": [
       "['pear', 'banana', 'kiwi']"
      ]
     },
     "execution_count": 22,
     "metadata": {},
     "output_type": "execute_result"
    }
   ],
   "source": [
    "fruits[2:5]"
   ]
  },
  {
   "cell_type": "code",
   "execution_count": 23,
   "id": "beb3d082",
   "metadata": {},
   "outputs": [
    {
     "data": {
      "text/plain": [
       "['pear', 'banana', 'kiwi', 'mango', 'grapes']"
      ]
     },
     "execution_count": 23,
     "metadata": {},
     "output_type": "execute_result"
    }
   ],
   "source": [
    "fruits[2:]"
   ]
  },
  {
   "cell_type": "code",
   "execution_count": 24,
   "id": "a7d64f14",
   "metadata": {},
   "outputs": [
    {
     "data": {
      "text/plain": [
       "['orange', 'apple']"
      ]
     },
     "execution_count": 24,
     "metadata": {},
     "output_type": "execute_result"
    }
   ],
   "source": [
    "fruits[:2]"
   ]
  },
  {
   "cell_type": "markdown",
   "id": "52802952",
   "metadata": {},
   "source": [
    "Exercise 3 a) Create a list with names of your friends and print the name of the first, second and last person"
   ]
  },
  {
   "cell_type": "code",
   "execution_count": 25,
   "id": "4e05241b",
   "metadata": {},
   "outputs": [],
   "source": [
    "name = ['aniket','ashwin','ashwini','kartik']"
   ]
  },
  {
   "cell_type": "code",
   "execution_count": 26,
   "id": "9a69b033",
   "metadata": {},
   "outputs": [
    {
     "name": "stdout",
     "output_type": "stream",
     "text": [
      "['aniket', 'ashwin', 'ashwini', 'kartik']\n"
     ]
    }
   ],
   "source": [
    "print(name)"
   ]
  },
  {
   "cell_type": "code",
   "execution_count": 27,
   "id": "ed23dfa2",
   "metadata": {},
   "outputs": [
    {
     "name": "stdout",
     "output_type": "stream",
     "text": [
      "aniket\n",
      "ashwin\n",
      "kartik\n"
     ]
    }
   ],
   "source": [
    "print(name[0])\n",
    "print(name[1])\n",
    "print(name[3])"
   ]
  },
  {
   "cell_type": "markdown",
   "id": "dbed894a",
   "metadata": {},
   "source": [
    "Exercise 3 b) Print your list of names using different ranges"
   ]
  },
  {
   "cell_type": "code",
   "execution_count": 28,
   "id": "13d138e4",
   "metadata": {},
   "outputs": [
    {
     "name": "stdout",
     "output_type": "stream",
     "text": [
      "['ashwin', 'ashwini', 'kartik']\n"
     ]
    }
   ],
   "source": [
    "print(name[1:4])"
   ]
  },
  {
   "cell_type": "markdown",
   "id": "b79bff79",
   "metadata": {},
   "source": [
    "Exercise 4 a) Count how many names you have added to the list using len([...])"
   ]
  },
  {
   "cell_type": "code",
   "execution_count": 29,
   "id": "806e701d",
   "metadata": {},
   "outputs": [
    {
     "name": "stdout",
     "output_type": "stream",
     "text": [
      "4\n"
     ]
    }
   ],
   "source": [
    "print(len(name))"
   ]
  },
  {
   "cell_type": "markdown",
   "id": "120d990e",
   "metadata": {},
   "source": [
    "Exercise 4 b) Add a new name to your list using append(item)"
   ]
  },
  {
   "cell_type": "code",
   "execution_count": 30,
   "id": "a75d987b",
   "metadata": {},
   "outputs": [
    {
     "name": "stdout",
     "output_type": "stream",
     "text": [
      "['aniket', 'ashwin', 'ashwini', 'kartik', 'krushna']\n"
     ]
    }
   ],
   "source": [
    "name.append(\"krushna\")\n",
    "print(name)"
   ]
  },
  {
   "cell_type": "markdown",
   "id": "0c6d090c",
   "metadata": {},
   "source": [
    "Exercise 4 c) Print the list. Does it look as expected?"
   ]
  },
  {
   "cell_type": "code",
   "execution_count": 31,
   "id": "2a5ba79f",
   "metadata": {},
   "outputs": [
    {
     "name": "stdout",
     "output_type": "stream",
     "text": [
      "['aniket', 'ashwin', 'ashwini', 'kartik', 'krushna']\n"
     ]
    }
   ],
   "source": [
    "print(name)"
   ]
  },
  {
   "cell_type": "markdown",
   "id": "11f86f61",
   "metadata": {},
   "source": [
    "Exercise 4 d) Add a new name on the third position in your list using insert(position, item)"
   ]
  },
  {
   "cell_type": "code",
   "execution_count": 32,
   "id": "11582ae8",
   "metadata": {},
   "outputs": [
    {
     "name": "stdout",
     "output_type": "stream",
     "text": [
      "['aniket', 'ashwin', 'dipika', 'ashwini', 'kartik', 'krushna']\n"
     ]
    }
   ],
   "source": [
    "name.insert(2, \"dipika\")\n",
    "print(name)"
   ]
  },
  {
   "cell_type": "markdown",
   "id": "1aa273b6",
   "metadata": {},
   "source": [
    "Exercise 4 e) Print the list. Does it look as expected?"
   ]
  },
  {
   "cell_type": "code",
   "execution_count": 36,
   "id": "93e15c64",
   "metadata": {},
   "outputs": [
    {
     "name": "stdout",
     "output_type": "stream",
     "text": [
      "['aniket', 'ashwin', 'dipika', 'ashwini', 'kartik', 'krushna']\n"
     ]
    }
   ],
   "source": [
    "print(name)"
   ]
  },
  {
   "cell_type": "markdown",
   "id": "885978cb",
   "metadata": {},
   "source": [
    "Exercise 4 f) Remove a name from the list using remove(item)"
   ]
  },
  {
   "cell_type": "code",
   "execution_count": 38,
   "id": "3d8edacc",
   "metadata": {},
   "outputs": [
    {
     "name": "stdout",
     "output_type": "stream",
     "text": [
      "['aniket', 'ashwin', 'dipika', 'kartik', 'krushna']\n"
     ]
    }
   ],
   "source": [
    "name.remove(\"ashwini\")\n",
    "print(name)"
   ]
  },
  {
   "cell_type": "markdown",
   "id": "17ae7c9d",
   "metadata": {},
   "source": [
    "Exercise 4 g) Print the list. Does it look as expected?"
   ]
  },
  {
   "cell_type": "code",
   "execution_count": 39,
   "id": "b453a703",
   "metadata": {},
   "outputs": [
    {
     "name": "stdout",
     "output_type": "stream",
     "text": [
      "['aniket', 'ashwin', 'dipika', 'kartik', 'krushna']\n"
     ]
    }
   ],
   "source": [
    "print(name)"
   ]
  },
  {
   "cell_type": "markdown",
   "id": "612c8a66",
   "metadata": {},
   "source": [
    "# Example: For loops"
   ]
  },
  {
   "cell_type": "code",
   "execution_count": 11,
   "id": "03e40ef0",
   "metadata": {},
   "outputs": [
    {
     "name": "stdout",
     "output_type": "stream",
     "text": [
      "orange\n",
      "apple\n",
      "pearl\n",
      "banana\n",
      "kiwi\n",
      "mango\n",
      "grapes\n"
     ]
    }
   ],
   "source": [
    "fruits = ['orange', 'apple', 'pearl', 'banana', 'kiwi', 'mango', 'grapes']\n",
    "for fruit in fruits:\n",
    "    print(fruit)"
   ]
  },
  {
   "cell_type": "code",
   "execution_count": 12,
   "id": "8856c56a",
   "metadata": {},
   "outputs": [
    {
     "name": "stdout",
     "output_type": "stream",
     "text": [
      "oranges\n",
      "apples\n",
      "pearls\n",
      "bananas\n",
      "kiwis\n",
      "mangos\n",
      "grapess\n"
     ]
    }
   ],
   "source": [
    "for fruit in fruits:\n",
    "    fruit = fruit + 's'\n",
    "    print(fruit)"
   ]
  },
  {
   "cell_type": "markdown",
   "id": "03478b61",
   "metadata": {},
   "source": [
    "Exercise 5 a) Print each name in your list of names\n",
    "\n"
   ]
  },
  {
   "cell_type": "code",
   "execution_count": 13,
   "id": "51adeae3",
   "metadata": {},
   "outputs": [
    {
     "name": "stdout",
     "output_type": "stream",
     "text": [
      "red\n",
      "green\n",
      "blue\n",
      "yellow\n"
     ]
    }
   ],
   "source": [
    "colors = [\"red\", \"green\", \"blue\", \"yellow\"]\n",
    "\n",
    "for color in colors:\n",
    "    print(color)"
   ]
  },
  {
   "cell_type": "markdown",
   "id": "9dcb0f88",
   "metadata": {},
   "source": [
    "Exercise 5 b) Add a small change to each name in your list"
   ]
  },
  {
   "cell_type": "code",
   "execution_count": 14,
   "id": "e2e22ed7",
   "metadata": {},
   "outputs": [
    {
     "name": "stdout",
     "output_type": "stream",
     "text": [
      "reds\n",
      "greens\n",
      "blues\n",
      "yellows\n"
     ]
    }
   ],
   "source": [
    "for color in colors:\n",
    "    color = color + 's'\n",
    "    print(color)"
   ]
  },
  {
   "cell_type": "markdown",
   "id": "c93014ee",
   "metadata": {},
   "source": [
    "# Example: Dictionaries"
   ]
  },
  {
   "cell_type": "code",
   "execution_count": 16,
   "id": "98fea2d0",
   "metadata": {},
   "outputs": [],
   "source": [
    "countries = {\"sweden\" : \"stockholm\", \"denmark\" : \"copenhagen\", \"norway\" : \"oslo\"}"
   ]
  },
  {
   "cell_type": "code",
   "execution_count": 17,
   "id": "6040731e",
   "metadata": {},
   "outputs": [
    {
     "name": "stdout",
     "output_type": "stream",
     "text": [
      "stockholm\n"
     ]
    }
   ],
   "source": [
    "capital = countries[\"sweden\"]\n",
    "print(capital)"
   ]
  },
  {
   "cell_type": "markdown",
   "id": "02502167",
   "metadata": {},
   "source": [
    "Exercise 6 a) Get the capital of Denmark and Norway using the dictionary countries"
   ]
  },
  {
   "cell_type": "code",
   "execution_count": 18,
   "id": "bc465dc8",
   "metadata": {},
   "outputs": [],
   "source": [
    "contries = {\"Denmark\" : \"Copenhagen\", \"Norway\" : \"Oslo\"}"
   ]
  },
  {
   "cell_type": "code",
   "execution_count": 19,
   "id": "a24ea428",
   "metadata": {},
   "outputs": [
    {
     "name": "stdout",
     "output_type": "stream",
     "text": [
      "Copenhagen\n"
     ]
    }
   ],
   "source": [
    "capital = contries[\"Denmark\"]\n",
    "print(capital)"
   ]
  },
  {
   "cell_type": "code",
   "execution_count": 21,
   "id": "8f8f6ce6",
   "metadata": {},
   "outputs": [
    {
     "name": "stdout",
     "output_type": "stream",
     "text": [
      "Oslo\n"
     ]
    }
   ],
   "source": [
    "capital = contries[\"Norway\"]\n",
    "print(capital)"
   ]
  },
  {
   "cell_type": "markdown",
   "id": "c3370c43",
   "metadata": {},
   "source": [
    "Exercise 6 b) Add a new key-value pair to the dictionary countries"
   ]
  },
  {
   "cell_type": "code",
   "execution_count": 22,
   "id": "8b24eded",
   "metadata": {},
   "outputs": [],
   "source": [
    "countries = {\"Denmark\" : \"Copenhagen\", \"Norway\" : \"Oslo\"}"
   ]
  },
  {
   "cell_type": "code",
   "execution_count": 23,
   "id": "0d6ad3ae",
   "metadata": {},
   "outputs": [
    {
     "name": "stdout",
     "output_type": "stream",
     "text": [
      "{'Denmark': 'Copenhagen', 'Norway': 'Oslo', 'Sweden': 'Stockholm'}\n"
     ]
    }
   ],
   "source": [
    "countries[\"Sweden\"] = \"Stockholm\"\n",
    "print(countries)"
   ]
  },
  {
   "cell_type": "markdown",
   "id": "c12be2f5",
   "metadata": {},
   "source": [
    "Exercise 6 c) Print the dictionary. Does it look as expected?"
   ]
  },
  {
   "cell_type": "code",
   "execution_count": 24,
   "id": "f57a6787",
   "metadata": {},
   "outputs": [
    {
     "name": "stdout",
     "output_type": "stream",
     "text": [
      "{'Denmark': 'Copenhagen', 'Norway': 'Oslo', 'Sweden': 'Stockholm'}\n"
     ]
    }
   ],
   "source": [
    "print(countries)"
   ]
  },
  {
   "cell_type": "markdown",
   "id": "ebfa683a",
   "metadata": {},
   "source": [
    "Exercise 6 d) Update Sweden's capital to Malmo"
   ]
  },
  {
   "cell_type": "code",
   "execution_count": 25,
   "id": "4abf490a",
   "metadata": {},
   "outputs": [],
   "source": [
    "countries[\"Sweden\"] = \"Malmo\""
   ]
  },
  {
   "cell_type": "code",
   "execution_count": 26,
   "id": "60b626b9",
   "metadata": {},
   "outputs": [
    {
     "name": "stdout",
     "output_type": "stream",
     "text": [
      "{'Denmark': 'Copenhagen', 'Norway': 'Oslo', 'Sweden': 'Malmo'}\n"
     ]
    }
   ],
   "source": [
    "print(countries)"
   ]
  },
  {
   "cell_type": "markdown",
   "id": "bf79e53c",
   "metadata": {},
   "source": [
    "Exercise 6 e) Print the dictionary. Does it look as expected?"
   ]
  },
  {
   "cell_type": "code",
   "execution_count": 27,
   "id": "a45e9d14",
   "metadata": {},
   "outputs": [
    {
     "name": "stdout",
     "output_type": "stream",
     "text": [
      "{'Denmark': 'Copenhagen', 'Norway': 'Oslo', 'Sweden': 'Malmo'}\n"
     ]
    }
   ],
   "source": [
    "print(countries)"
   ]
  },
  {
   "cell_type": "markdown",
   "id": "824528f1",
   "metadata": {},
   "source": [
    "Exercise 6 f) Remove the key-value pair Sweden-Stockholm from the dictionary"
   ]
  },
  {
   "cell_type": "code",
   "execution_count": 28,
   "id": "64b36f39",
   "metadata": {},
   "outputs": [
    {
     "name": "stdout",
     "output_type": "stream",
     "text": [
      "{'Denmark': 'Copenhagen', 'Norway': 'Oslo'}\n"
     ]
    }
   ],
   "source": [
    "del countries[\"Sweden\"]\n",
    "print(countries)"
   ]
  },
  {
   "cell_type": "markdown",
   "id": "9ac6a0ca",
   "metadata": {},
   "source": [
    "Exercise 6 g) Print the dictionary. Does it look as expected?"
   ]
  },
  {
   "cell_type": "code",
   "execution_count": 29,
   "id": "8e53108e",
   "metadata": {},
   "outputs": [
    {
     "name": "stdout",
     "output_type": "stream",
     "text": [
      "{'Denmark': 'Copenhagen', 'Norway': 'Oslo'}\n"
     ]
    }
   ],
   "source": [
    "print(countries)"
   ]
  },
  {
   "cell_type": "markdown",
   "id": "5d59cb4f",
   "metadata": {},
   "source": [
    "Exercise 6 g) Print each key-value pair in the dictionary countries"
   ]
  },
  {
   "cell_type": "code",
   "execution_count": 30,
   "id": "eba01461",
   "metadata": {},
   "outputs": [
    {
     "name": "stdout",
     "output_type": "stream",
     "text": [
      "Country: Denmark, Capital: Copenhagen\n",
      "Country: Norway, Capital: Oslo\n"
     ]
    }
   ],
   "source": [
    "for key, value in countries.items():\n",
    "    print(f\"Country: {key}, Capital: {value}\")"
   ]
  },
  {
   "cell_type": "markdown",
   "id": "a1147ba3",
   "metadata": {},
   "source": [
    "# Example: Functions"
   ]
  },
  {
   "cell_type": "markdown",
   "id": "1c9630f0",
   "metadata": {},
   "source": [
    "def function_name(param1, param2):\n",
    "    # Block of code"
   ]
  },
  {
   "cell_type": "markdown",
   "id": "2a697f05",
   "metadata": {},
   "source": [
    "We will start with creating a function that can add two numbers."
   ]
  },
  {
   "cell_type": "code",
   "execution_count": 1,
   "id": "c251630d",
   "metadata": {},
   "outputs": [],
   "source": [
    "def add_two_numbers(number1, number2):\n",
    "    result = number1 + number2\n",
    "    return result"
   ]
  },
  {
   "cell_type": "markdown",
   "id": "122dd70c",
   "metadata": {},
   "source": [
    "Let's try to use it!"
   ]
  },
  {
   "cell_type": "code",
   "execution_count": 2,
   "id": "fd64982b",
   "metadata": {},
   "outputs": [
    {
     "data": {
      "text/plain": [
       "3"
      ]
     },
     "execution_count": 2,
     "metadata": {},
     "output_type": "execute_result"
    }
   ],
   "source": [
    "add_two_numbers(1,2)"
   ]
  },
  {
   "cell_type": "code",
   "execution_count": 3,
   "id": "a9fa3f7b",
   "metadata": {},
   "outputs": [
    {
     "data": {
      "text/plain": [
       "25"
      ]
     },
     "execution_count": 3,
     "metadata": {},
     "output_type": "execute_result"
    }
   ],
   "source": [
    "add_two_numbers(5,20)"
   ]
  },
  {
   "cell_type": "markdown",
   "id": "8732af34",
   "metadata": {},
   "source": [
    "Exercise 7 a) Create a function that can calculate the difference between two numbers"
   ]
  },
  {
   "cell_type": "code",
   "execution_count": 5,
   "id": "5662b532",
   "metadata": {},
   "outputs": [],
   "source": [
    "def absolute_difference(num1, num2):\n",
    "    # Use the abs function to get the absolute value of the subtraction\n",
    "    result = abs(num1 - num2)\n",
    "    # Return the result\n",
    "    return result"
   ]
  },
  {
   "cell_type": "code",
   "execution_count": 6,
   "id": "0c8ea0e9",
   "metadata": {},
   "outputs": [
    {
     "data": {
      "text/plain": [
       "5"
      ]
     },
     "execution_count": 6,
     "metadata": {},
     "output_type": "execute_result"
    }
   ],
   "source": [
    "absolute_difference(10, 5)"
   ]
  },
  {
   "cell_type": "markdown",
   "id": "89fff17c",
   "metadata": {},
   "source": [
    "Exercise 7 b) Use the function. Does it return the expected results?"
   ]
  },
  {
   "cell_type": "code",
   "execution_count": 7,
   "id": "8b280c79",
   "metadata": {},
   "outputs": [
    {
     "data": {
      "text/plain": [
       "15"
      ]
     },
     "execution_count": 7,
     "metadata": {},
     "output_type": "execute_result"
    }
   ],
   "source": [
    "absolute_difference(20, 5)"
   ]
  },
  {
   "cell_type": "markdown",
   "id": "1d9f2752",
   "metadata": {},
   "source": [
    "Exercise 7 c) Create a function that can multiply two numbers"
   ]
  },
  {
   "cell_type": "code",
   "execution_count": 8,
   "id": "75284fe4",
   "metadata": {},
   "outputs": [],
   "source": [
    "def multiply_num(num1, num2):\n",
    "    result = (num1 * num2)\n",
    "    return result"
   ]
  },
  {
   "cell_type": "code",
   "execution_count": 9,
   "id": "5398fbce",
   "metadata": {},
   "outputs": [
    {
     "data": {
      "text/plain": [
       "50"
      ]
     },
     "execution_count": 9,
     "metadata": {},
     "output_type": "execute_result"
    }
   ],
   "source": [
    "multiply_num(10, 5)"
   ]
  },
  {
   "cell_type": "markdown",
   "id": "fe26fc4e",
   "metadata": {},
   "source": [
    "Exercise 7 d) Use the function. Does it return the expected results?"
   ]
  },
  {
   "cell_type": "code",
   "execution_count": 10,
   "id": "1e4d4723",
   "metadata": {},
   "outputs": [
    {
     "data": {
      "text/plain": [
       "25"
      ]
     },
     "execution_count": 10,
     "metadata": {},
     "output_type": "execute_result"
    }
   ],
   "source": [
    "multiply_num(5, 5)"
   ]
  },
  {
   "cell_type": "markdown",
   "id": "736a1a47",
   "metadata": {},
   "source": [
    "Exercise 7 e) Create a function that can divide two numbers"
   ]
  },
  {
   "cell_type": "code",
   "execution_count": 11,
   "id": "346018fd",
   "metadata": {},
   "outputs": [],
   "source": [
    "def divide_num(num1, num2):\n",
    "    result = (num1 / num2)\n",
    "    return result"
   ]
  },
  {
   "cell_type": "code",
   "execution_count": 12,
   "id": "8bd1be21",
   "metadata": {},
   "outputs": [
    {
     "data": {
      "text/plain": [
       "25.0"
      ]
     },
     "execution_count": 12,
     "metadata": {},
     "output_type": "execute_result"
    }
   ],
   "source": [
    "divide_num(100, 4)"
   ]
  },
  {
   "cell_type": "markdown",
   "id": "a46113b7",
   "metadata": {},
   "source": [
    "Exercise 7 f) Use the function. Does it return the expected results?"
   ]
  },
  {
   "cell_type": "code",
   "execution_count": 13,
   "id": "7940ec36",
   "metadata": {},
   "outputs": [
    {
     "data": {
      "text/plain": [
       "10.0"
      ]
     },
     "execution_count": 13,
     "metadata": {},
     "output_type": "execute_result"
    }
   ],
   "source": [
    "divide_num(20, 2)"
   ]
  },
  {
   "cell_type": "code",
   "execution_count": null,
   "id": "41d3ba1b",
   "metadata": {},
   "outputs": [],
   "source": []
  }
 ],
 "metadata": {
  "kernelspec": {
   "display_name": "Python 3 (ipykernel)",
   "language": "python",
   "name": "python3"
  },
  "language_info": {
   "codemirror_mode": {
    "name": "ipython",
    "version": 3
   },
   "file_extension": ".py",
   "mimetype": "text/x-python",
   "name": "python",
   "nbconvert_exporter": "python",
   "pygments_lexer": "ipython3",
   "version": "3.11.5"
  }
 },
 "nbformat": 4,
 "nbformat_minor": 5
}
