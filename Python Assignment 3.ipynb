{
 "cells": [
  {
   "cell_type": "markdown",
   "id": "8bc950fa",
   "metadata": {},
   "source": [
    "# Python Assignment - 3\n",
    "Carries - 30 marks"
   ]
  },
  {
   "cell_type": "markdown",
   "id": "83f577a5",
   "metadata": {},
   "source": [
    "# #What is File function in python? What is keywords to create and write file."
   ]
  },
  {
   "cell_type": "markdown",
   "id": "753fb60f",
   "metadata": {},
   "source": [
    "Python file object provides methods and attributes to access and manipulate files. Using file objects, we can read or write any files. Whenever we open a file to perform any operations on it, Python returns a file object. To create a file object in Python use the built-in functions, such as open() and os. popen()"
   ]
  },
  {
   "cell_type": "markdown",
   "id": "b71f8bda",
   "metadata": {},
   "source": [
    "### Create and write a file"
   ]
  },
  {
   "cell_type": "code",
   "execution_count": 1,
   "id": "8c138209",
   "metadata": {},
   "outputs": [],
   "source": [
    "with open('example.txt', 'w') as file:\n",
    "    file.write('Hello, World!')"
   ]
  },
  {
   "cell_type": "markdown",
   "id": "34967e09",
   "metadata": {},
   "source": [
    "## Write a python program to read an entire text file."
   ]
  },
  {
   "cell_type": "code",
   "execution_count": 8,
   "id": "ee36fd22",
   "metadata": {
    "scrolled": true
   },
   "outputs": [
    {
     "name": "stdout",
     "output_type": "stream",
     "text": [
      "January, \n",
      "February, \n",
      "March, \n",
      "April, \n",
      "May, \n",
      "June, \n",
      "July, \n",
      "August, \n",
      "September, \n",
      "October, \n",
      "November,\n",
      "December.\n"
     ]
    }
   ],
   "source": [
    "file_path = r\"C:\\Users\\MY PC\\Documents\\January.txt\"\n",
    "with open(file_path, 'r') as file:\n",
    "    file_content = file.read()\n",
    "print(file_content)"
   ]
  },
  {
   "cell_type": "markdown",
   "id": "bb9f838f",
   "metadata": {},
   "source": [
    "## Write a Python program to append text to a file and display the text."
   ]
  },
  {
   "cell_type": "code",
   "execution_count": 1,
   "id": "0b84dcd3",
   "metadata": {},
   "outputs": [
    {
     "name": "stdout",
     "output_type": "stream",
     "text": [
      "connect to file\n",
      "1.\"Hello, this is the first line of the text file.\"\n",
      "2.\"Here is the second line, with some additional content.\"\n",
      "3.\"The third line of the file provides more information.\"\n",
      "4.\"Line four is where we continue to write in the text file.\"\n",
      "5.\"Finally, the fifth line concludes our text file example.\"\n",
      "this text join in this file\n"
     ]
    }
   ],
   "source": [
    "file_path = r\"C:\\Users\\MY PC\\Documents\\Hello.txt\"\n",
    "text_to_append = \"this text join in this file\"\n",
    "with open(file_path, 'a', encoding='utf-8') as file:\n",
    "    file.write(\"\\n\" + text_to_append)\n",
    "with open(file_path, 'r', encoding='utf-8') as file:\n",
    "    file_content = file.read()\n",
    "    \n",
    "print(\"connect to file\")\n",
    "print(file_content)\n"
   ]
  },
  {
   "cell_type": "markdown",
   "id": "23a5268f",
   "metadata": {},
   "source": [
    "## Write a Python program to read first n lines of a file."
   ]
  },
  {
   "cell_type": "code",
   "execution_count": 7,
   "id": "4a34313c",
   "metadata": {},
   "outputs": [
    {
     "name": "stdout",
     "output_type": "stream",
     "text": [
      "January,\n",
      "February,\n",
      "March,\n",
      "April,\n",
      "May,\n"
     ]
    }
   ],
   "source": [
    "def read_first_n_lines(filename, n):\n",
    "    try:\n",
    "        with open(filename, 'r') as file:\n",
    "            lines = file.readlines()\n",
    "            for i in range(min(n, len(lines))):\n",
    "                print(lines[i].strip())  # Print each line, removing extra whitespace.\n",
    "\n",
    "    except FileNotFoundError:\n",
    "        print(f\"File '{filename}' not found.\")\n",
    "    except Exception as e:\n",
    "        print(f\"An error occurred: {str(e)}\")\n",
    "\n",
    "# Example: Read the first 5 lines of a file\n",
    "file_name = r\"C:\\Users\\MY PC\\Documents\\January.txt\"\n",
    "n = 5 \n",
    "read_first_n_lines(file_path, n)"
   ]
  },
  {
   "cell_type": "markdown",
   "id": "cc87219b",
   "metadata": {},
   "source": [
    "## Write a Python program to read last n lines of a file."
   ]
  },
  {
   "cell_type": "code",
   "execution_count": 10,
   "id": "a71bace1",
   "metadata": {},
   "outputs": [
    {
     "name": "stdout",
     "output_type": "stream",
     "text": [
      "Last 5 lines of the file:\n",
      "6.\"This is the sixth line, and it contains some additional information.\"\n",
      "7.\"The seventh line provides further details on the topic.\"\n",
      "8.\"Line eight discusses a different aspect of the subject.\"\n",
      "9.\"Ninth line is here to share even more insights.\"\n",
      "10.\"Finally, the tenth line concludes our extended text file.\"\n"
     ]
    }
   ],
   "source": [
    "def read_last_n_lines(file_path, n):\n",
    "    try:\n",
    "        with open(file_path, 'r') as file:\n",
    "            lines = file.readlines()\n",
    "            last_n_lines = lines[-n:]\n",
    "            return last_n_lines\n",
    "    except FileNotFoundError:\n",
    "        return f\"File '{file_path}' not found.\"\n",
    "    except Exception as e:\n",
    "        return f\"An error occurred: {str(e)}\"\n",
    "\n",
    "# Example usage\n",
    "file_path = r\"C:\\Users\\MY PC\\Documents\\Hello.txt\"\n",
    "n = 5\n",
    "\n",
    "result = read_last_n_lines(file_path, n)\n",
    "if isinstance(result, str):\n",
    "    print(result)\n",
    "else:\n",
    "    print(f\"Last {n} lines of the file:\")\n",
    "    print(''.join(result))\n"
   ]
  },
  {
   "cell_type": "markdown",
   "id": "60d6d681",
   "metadata": {},
   "source": [
    "# Write a Python program to read a file line by line and store it into a list"
   ]
  },
  {
   "cell_type": "code",
   "execution_count": 13,
   "id": "abd7c05b",
   "metadata": {},
   "outputs": [
    {
     "name": "stdout",
     "output_type": "stream",
     "text": [
      "Last 5 lines of the file:\n",
      "6.\"This is the sixth line, and it contains some additional information.\"\n",
      "7.\"The seventh line provides further details on the topic.\"\n",
      "8.\"Line eight discusses a different aspect of the subject.\"\n",
      "9.\"Ninth line is here to share even more insights.\"\n",
      "10.\"Finally, the tenth line concludes our extended text file.\"\n"
     ]
    }
   ],
   "source": [
    "def read_last_n_lines(file_path, n):\n",
    "    try:\n",
    "        with open(file_path, 'r') as file:\n",
    "            lines = file.readlines()\n",
    "            last_n_lines = lines[-n:]\n",
    "            return last_n_lines\n",
    "    except FileNotFoundError:\n",
    "        return f\"File '{file_path}' not found.\"\n",
    "    except Exception as e:\n",
    "        return f\"An error occurred: {str(e)}\"\n",
    "\n",
    "# Example usage\n",
    "file_path = r\"C:\\Users\\MY PC\\Documents\\Hello.txt\"\n",
    "n = 5\n",
    "\n",
    "result = read_last_n_lines(file_path, n)\n",
    "if isinstance(result, str):\n",
    "    print(result)\n",
    "else:\n",
    "    print(f\"Last {n} lines of the file:\")\n",
    "    print(''.join(result))\n"
   ]
  },
  {
   "cell_type": "markdown",
   "id": "1be5f606",
   "metadata": {},
   "source": [
    "# #Write a Python program to read a file line by line store it into a variable."
   ]
  },
  {
   "cell_type": "code",
   "execution_count": 14,
   "id": "8d4ba45a",
   "metadata": {},
   "outputs": [
    {
     "name": "stdout",
     "output_type": "stream",
     "text": [
      "Lines read from the file and stored in a list:\n",
      "['January, \\n', 'February, \\n', 'March, \\n', 'April, \\n', 'May, \\n', 'June, \\n', 'July, \\n', 'August, \\n', 'September, \\n', 'October, \\n', 'November,\\n', 'December.']\n"
     ]
    }
   ],
   "source": [
    "def read_file_to_list(file_path):\n",
    "    try:\n",
    "        with open(file_path, 'r') as file:\n",
    "            lines = file.readlines()\n",
    "            return lines\n",
    "    except FileNotFoundError:\n",
    "        return f\"File '{file_path}' not found.\"\n",
    "    except Exception as e:\n",
    "        return f\"An error occurred: {str(e)}\"\n",
    "\n",
    "# Example usage\n",
    "file_path = r\"C:\\Users\\MY PC\\Documents\\January.txt\"\n",
    "\n",
    "result = read_file_to_list(file_path)\n",
    "if isinstance(result, str):\n",
    "    print(result)\n",
    "else:\n",
    "    print(\"Lines read from the file and stored in a list:\")\n",
    "    print(result)"
   ]
  },
  {
   "cell_type": "markdown",
   "id": "f5d441f8",
   "metadata": {},
   "source": [
    "# #Write a Python program to copy the contents of a file to another file."
   ]
  },
  {
   "cell_type": "code",
   "execution_count": 16,
   "id": "cf1aac11",
   "metadata": {},
   "outputs": [
    {
     "name": "stdout",
     "output_type": "stream",
     "text": [
      "File 'C:\\Users\\MY PC\\Documents\\January.txt' copied to 'destination.txt' successfully.\n"
     ]
    }
   ],
   "source": [
    "import shutil\n",
    "\n",
    "source_file = r\"C:\\Users\\MY PC\\Documents\\January.txt\"\n",
    "destination_file = \"destination.txt\"\n",
    "\n",
    "try:\n",
    "    shutil.copy(source_file, destination_file)\n",
    "    print(f\"File '{source_file}' copied to '{destination_file}' successfully.\")\n",
    "except FileNotFoundError:\n",
    "    print(f\"Source file '{source_file}' not found.\")\n",
    "except Exception as e:\n",
    "    print(f\"An error occurred: {str(e)}\")\n"
   ]
  },
  {
   "cell_type": "markdown",
   "id": "e3150e67",
   "metadata": {},
   "source": [
    "## Write python program that user to enter only odd numbers, else will raise an exception."
   ]
  },
  {
   "cell_type": "code",
   "execution_count": 17,
   "id": "dea8e0e9",
   "metadata": {},
   "outputs": [
    {
     "name": "stdout",
     "output_type": "stream",
     "text": [
      "Enter an odd number: 1\n",
      "You entered an odd number: 1\n"
     ]
    }
   ],
   "source": [
    "try:\n",
    "    while True:\n",
    "        user_input = input(\"Enter an odd number: \")\n",
    "        number = int(user_input)\n",
    "\n",
    "        if number % 2 == 0:\n",
    "            raise ValueError(\"Even number entered. Please enter an odd number.\")\n",
    "        else:\n",
    "            print(f\"You entered an odd number: {number}\")\n",
    "            break\n",
    "\n",
    "except ValueError as ve:\n",
    "    print(ve)\n"
   ]
  },
  {
   "cell_type": "markdown",
   "id": "20f41239",
   "metadata": {},
   "source": [
    "## Can one block of except statements handle multiple exception?"
   ]
  },
  {
   "cell_type": "code",
   "execution_count": 19,
   "id": "09c064d7",
   "metadata": {},
   "outputs": [
    {
     "name": "stdout",
     "output_type": "stream",
     "text": [
      "Enter an odd number: 2\n",
      "Error: Even number entered. Please enter an odd number.\n",
      "Enter an odd number: 5\n",
      "Thanks! You entered an odd number.\n"
     ]
    }
   ],
   "source": [
    "while True:\n",
    "    try:\n",
    "        user_input = int(input(\"Enter an odd number: \"))\n",
    "        if user_input % 2 != 0:\n",
    "            print(\"Thanks! You entered an odd number.\")\n",
    "            break\n",
    "        else:\n",
    "            raise ValueError(\"Error: Even number entered. Please enter an odd number.\")\n",
    "    except ValueError as e:\n",
    "        print(e)"
   ]
  },
  {
   "cell_type": "markdown",
   "id": "815ff136",
   "metadata": {},
   "source": [
    "# #Explain Exception handling? What is an Error in Python?"
   ]
  },
  {
   "cell_type": "markdown",
   "id": "a00c3875",
   "metadata": {},
   "source": [
    "Exception handling is a mechanism in programming that allows developers to handle unexpected or exceptional situations that can occur during the execution of a program. These exceptional situations, also known as exceptions, can include errors, invalid input, file not found, network issues, and other unexpected events. By handling exceptions, programmers can gracefully manage these situations and prevent the program from crashing.In Python, exceptions are objects that represent errors. When an error occurs during the execution of a program, Python raises an exception. Exceptions can be raised explicitly by the programmer or implicitly by the Python interpreter when it encounters an error."
   ]
  },
  {
   "cell_type": "code",
   "execution_count": 22,
   "id": "8cc01095",
   "metadata": {},
   "outputs": [
    {
     "ename": "IndentationError",
     "evalue": "expected an indented block after function definition on line 1 (2787748589.py, line 2)",
     "output_type": "error",
     "traceback": [
      "\u001b[1;36m  Cell \u001b[1;32mIn[22], line 2\u001b[1;36m\u001b[0m\n\u001b[1;33m    print(\"Indented incorrectly!\")\u001b[0m\n\u001b[1;37m    ^\u001b[0m\n\u001b[1;31mIndentationError\u001b[0m\u001b[1;31m:\u001b[0m expected an indented block after function definition on line 1\n"
     ]
    }
   ],
   "source": [
    "def example_function():\n",
    "print(\"Indented incorrectly!\")"
   ]
  },
  {
   "cell_type": "markdown",
   "id": "aaab55f6",
   "metadata": {},
   "source": [
    "# #Write a Python program to count the number of lines in a text file."
   ]
  },
  {
   "cell_type": "code",
   "execution_count": 34,
   "id": "2ae8ab1c",
   "metadata": {},
   "outputs": [
    {
     "name": "stdout",
     "output_type": "stream",
     "text": [
      "Number of lines in the file: 10\n"
     ]
    }
   ],
   "source": [
    "# Open the file in read mode\n",
    "file_path = r\"C:\\Users\\MY PC\\Documents\\Hello.txt\"\n",
    "try:\n",
    "    with open(file_path, 'r') as file:\n",
    "        # Read the file line by line and count the lines\n",
    "        line_count = sum(1 for line in file)\n",
    "        print(\"Number of lines in the file:\", line_count)\n",
    "except FileNotFoundError:\n",
    "    print(\"Error: File not found.\")\n",
    "except Exception as e:\n",
    "    print(\"An error occurred:\", e)"
   ]
  },
  {
   "cell_type": "markdown",
   "id": "52ee1e49",
   "metadata": {},
   "source": [
    "# #Write a Python program to write a list to a file."
   ]
  },
  {
   "cell_type": "code",
   "execution_count": 40,
   "id": "346ee8aa",
   "metadata": {},
   "outputs": [
    {
     "name": "stdout",
     "output_type": "stream",
     "text": [
      "The list has been written to 'C:\\Users\\MY PC\\Documents\\Hello.txt' successfully.\n"
     ]
    }
   ],
   "source": [
    "def write_list_to_file(filename, input_list):\n",
    "    try:\n",
    "        with open(filename, 'w') as file:\n",
    "            for item in input_list:\n",
    "                file.write(str(item) + '\\n')\n",
    "\n",
    "        print(f\"The list has been written to '{filename}' successfully.\")\n",
    "    except Exception as e:\n",
    "        print(f\"An error occurred: {str(e)}\")\n",
    "\n",
    "# Example: Write a list to a file\n",
    "file_name = r\"C:\\Users\\MY PC\\Documents\\Hello.txt\"  \n",
    "\n",
    "write_list_to_file(file_name, my_list)"
   ]
  },
  {
   "cell_type": "markdown",
   "id": "bc070c03",
   "metadata": {},
   "source": [
    "## Explain Inheritance in Python with an example?What is init? Or What Is A Constructor In Python?"
   ]
  },
  {
   "cell_type": "markdown",
   "id": "394df125",
   "metadata": {},
   "source": [
    "Inheritance is a fundamental concept in object-oriented programming that allows you to create a new class (subclass or derived class) that is based on an existing class (base class or parent class). In Python, you can create a new class that inherits attributes and behaviors (methods) from an existing class. This enables code reuse, extensibility, and the ability to create hierarchies of classes."
   ]
  },
  {
   "cell_type": "code",
   "execution_count": 42,
   "id": "1a50cb43",
   "metadata": {},
   "outputs": [
    {
     "name": "stdout",
     "output_type": "stream",
     "text": [
      "Buddy says Woof!\n",
      "Whiskers says Meow!\n"
     ]
    }
   ],
   "source": [
    "class Animal:\n",
    "    def __init__(self, name):\n",
    "        self.name = name\n",
    "\n",
    "    def speak(self):\n",
    "        pass\n",
    "\n",
    "class Dog(Animal):\n",
    "    def speak(self):\n",
    "        return f\"{self.name} says Woof!\"\n",
    "\n",
    "class Cat(Animal):\n",
    "    def speak(self):\n",
    "        return f\"{self.name} says Meow!\"\n",
    "\n",
    "dog = Dog(\"Buddy\")\n",
    "cat = Cat(\"Whiskers\")\n",
    "\n",
    "print(dog.speak())  \n",
    "print(cat.speak())  \n"
   ]
  },
  {
   "cell_type": "markdown",
   "id": "d67673ec",
   "metadata": {},
   "source": [
    "## Write a python program to find the longest words."
   ]
  },
  {
   "cell_type": "code",
   "execution_count": 44,
   "id": "54eaf7cc",
   "metadata": {},
   "outputs": [
    {
     "name": "stdout",
     "output_type": "stream",
     "text": [
      "Longest words in the text:\n",
      "extraordinarily\n"
     ]
    }
   ],
   "source": [
    "def find_longest_words(text):\n",
    "    words = text.split()\n",
    "    if not words:\n",
    "        return []\n",
    "\n",
    "    max_length = max(len(word) for word in words)\n",
    "    longest_words = [word for word in words if len(word) == max_length]\n",
    "\n",
    "    return longest_words\n",
    "\n",
    "# Example text\n",
    "text = \"The quick brown fox jumps over the extraordinarily long and impressive dictionary.\"\n",
    "\n",
    "longest_words = find_longest_words(text)\n",
    "\n",
    "if longest_words:\n",
    "    print(\"Longest words in the text:\")\n",
    "    for word in longest_words:\n",
    "        print(word)\n",
    "else:\n",
    "    print(\"No words found in the text.\")\n"
   ]
  },
  {
   "cell_type": "markdown",
   "id": "86c31aef",
   "metadata": {},
   "source": [
    "## How to Define a Class in Python? What Is Self? Give An Example Of A Python Class"
   ]
  },
  {
   "cell_type": "code",
   "execution_count": 45,
   "id": "fec1b1ef",
   "metadata": {},
   "outputs": [
    {
     "name": "stdout",
     "output_type": "stream",
     "text": [
      "Buddy is a Canis familiaris. Buddy is 3 years old\n",
      "Molly is a Canis familiaris. Molly is 4 years old\n",
      "Buddy says Woof!\n",
      "Molly says Woof woof!\n"
     ]
    }
   ],
   "source": [
    "class Dog:\n",
    "    species = \"Canis familiaris\"\n",
    "    \n",
    "    def __init__(self, name, age):\n",
    "        self.name = name  \n",
    "        self.age = age    \n",
    "\n",
    "    def description(self):\n",
    "        return f\"{self.name} is {self.age} years old\"\n",
    "\n",
    "    def speak(self, sound):\n",
    "        return f\"{self.name} says {sound}\"\n",
    "\n",
    "dog1 = Dog(\"Buddy\", 3)\n",
    "dog2 = Dog(\"Molly\", 4)\n",
    "\n",
    "print(f\"{dog1.name} is a {dog1.species}. {dog1.description()}\")\n",
    "print(f\"{dog2.name} is a {dog2.species}. {dog2.description()}\")\n",
    "print(dog1.speak(\"Woof!\"))\n",
    "print(dog2.speak(\"Woof woof!\"))\n"
   ]
  },
  {
   "cell_type": "markdown",
   "id": "fd89810e",
   "metadata": {},
   "source": [
    "# #Write a Python class named Rectangle constructed by a length and width and a method which will compute the area of a rectangle"
   ]
  },
  {
   "cell_type": "code",
   "execution_count": 46,
   "id": "0ea16750",
   "metadata": {},
   "outputs": [
    {
     "name": "stdout",
     "output_type": "stream",
     "text": [
      "The area of the rectangle is 24 square units.\n"
     ]
    }
   ],
   "source": [
    "class Rectangle:\n",
    "    def __init__(self, length, width):\n",
    "        self.length = length\n",
    "        self.width = width\n",
    "\n",
    "    def compute_area(self):\n",
    "        return self.length * self.width\n",
    "\n",
    "rectangle = Rectangle(4, 6)\n",
    "\n",
    "area = rectangle.compute_area()\n",
    "print(f\"The area of the rectangle is {area} square units.\")\n"
   ]
  },
  {
   "cell_type": "markdown",
   "id": "0467cfd8",
   "metadata": {},
   "source": [
    "## Explain Exception handling? What is an Error in Python?"
   ]
  },
  {
   "cell_type": "markdown",
   "id": "20df13bc",
   "metadata": {},
   "source": [
    "Exception handling is a fundamental concept in programming that allows you to gracefully manage and respond to unexpected or erroneous situations that may occur during the execution of a program. In Python, exceptions are used to handle errors and exceptional conditions."
   ]
  },
  {
   "cell_type": "code",
   "execution_count": 48,
   "id": "15a8166b",
   "metadata": {},
   "outputs": [
    {
     "ename": "SyntaxError",
     "evalue": "invalid syntax (1003445933.py, line 2)",
     "output_type": "error",
     "traceback": [
      "\u001b[1;36m  Cell \u001b[1;32mIn[48], line 2\u001b[1;36m\u001b[0m\n\u001b[1;33m    result =\u001b[0m\n\u001b[1;37m             ^\u001b[0m\n\u001b[1;31mSyntaxError\u001b[0m\u001b[1;31m:\u001b[0m invalid syntax\n"
     ]
    }
   ],
   "source": [
    "try:\n",
    "    result = \n",
    "except ZeroDivisionError as e:\n",
    "    print(f\"An error occurred: {e}\")\n"
   ]
  },
  {
   "cell_type": "markdown",
   "id": "69c7dfc2",
   "metadata": {},
   "source": [
    "## How many except statements can a try-except block have? Name Some built-in exception classes:"
   ]
  },
  {
   "cell_type": "code",
   "execution_count": 49,
   "id": "430b0fef",
   "metadata": {},
   "outputs": [
    {
     "name": "stdout",
     "output_type": "stream",
     "text": [
      "Zero division error occurred.\n"
     ]
    }
   ],
   "source": [
    "try:\n",
    "    x = 10 / 0  \n",
    "    y = int(\"abc\")  \n",
    "except ZeroDivisionError:\n",
    "    print(\"Zero division error occurred.\")\n",
    "except ValueError:\n",
    "    print(\"Value error occurred.\")\n",
    "except Exception as e:\n",
    "    print(f\"An error occurred: {e}\")\n"
   ]
  },
  {
   "cell_type": "markdown",
   "id": "17235134",
   "metadata": {},
   "source": [
    "Here are some example of build-in exception classes:\n",
    "1.\"syntaxerror\"\n",
    "2.\"IndentationError\"\n",
    "3.\"NameError\"\n",
    "4.\"TypeError\"\n",
    "5.\"ValueError\"\n",
    "6.\"ZeroDivisionError\""
   ]
  },
  {
   "cell_type": "markdown",
   "id": "8ee1306d",
   "metadata": {},
   "source": [
    "# #Write python program that user to enter only odd numbers, else will raise an exception."
   ]
  },
  {
   "cell_type": "code",
   "execution_count": 53,
   "id": "9d7c87eb",
   "metadata": {},
   "outputs": [
    {
     "name": "stdout",
     "output_type": "stream",
     "text": [
      "Enter an odd number: 30\n",
      "Invalid input! Please enter an odd number.\n",
      "Enter an odd number: 31\n",
      "Valid odd number entered: 31\n"
     ]
    }
   ],
   "source": [
    "class InvalidOddNumberError(Exception):\n",
    "    pass\n",
    "\n",
    "def is_odd(number):\n",
    "    return number % 2 != 0\n",
    "\n",
    "while True:\n",
    "    try:\n",
    "        user_input = input(\"Enter an odd number: \")\n",
    "\n",
    "        number = int(user_input)\n",
    "\n",
    "        if is_odd(number):\n",
    "            print(\"Valid odd number entered:\", number)\n",
    "            break\n",
    "        else:\n",
    "            raise InvalidOddNumberError(\"Invalid input! Please enter an odd number.\")\n",
    "    except ValueError:\n",
    "        print(\"Invalid input! Please enter a valid integer.\")\n",
    "    except InvalidOddNumberError as e:\n",
    "        print(e)"
   ]
  },
  {
   "cell_type": "markdown",
   "id": "3d707fab",
   "metadata": {},
   "source": [
    "# #Write a Python class named Circle constructed by a radius and two methods which will compute the area and the perimeter of a circle"
   ]
  },
  {
   "cell_type": "code",
   "execution_count": 54,
   "id": "786ec05e",
   "metadata": {},
   "outputs": [
    {
     "name": "stdout",
     "output_type": "stream",
     "text": [
      "Circle with radius 5:\n",
      "Area: 78.54 square units\n",
      "Perimeter: 31.42 units\n"
     ]
    }
   ],
   "source": [
    "import math\n",
    "\n",
    "class Circle:\n",
    "    def __init__(self, radius):\n",
    "        self.radius = radius\n",
    "\n",
    "    def compute_area(self):\n",
    "        area = math.pi * (self.radius ** 2)\n",
    "        return area\n",
    "\n",
    "    def compute_perimeter(self):\n",
    "        perimeter = 2 * math.pi * self.radius\n",
    "        return perimeter\n",
    "\n",
    "circle = Circle(5)\n",
    "\n",
    "area = circle.compute_area()\n",
    "perimeter = circle.compute_perimeter()\n",
    "\n",
    "print(f\"Circle with radius {circle.radius}:\")\n",
    "print(f\"Area: {area:.2f} square units\")\n",
    "print(f\"Perimeter: {perimeter:.2f} units\")\n"
   ]
  },
  {
   "cell_type": "markdown",
   "id": "43bb42a3",
   "metadata": {},
   "source": [
    "## Explain Inheritance in Python with an example? What is init? Or What Is A Constructor In Python?"
   ]
  },
  {
   "cell_type": "markdown",
   "id": "3a34f176",
   "metadata": {},
   "source": [
    "Inheritance in Python:\n",
    "\n",
    "Inheritance is a fundamental concept in object-oriented programming (OOP) that allows you to create a new class by inheriting attributes and methods from an existing class. In Python, inheritance enables code reuse and the creation of a hierarchy of classes. The class from which you inherit is called the base class or parent class, and the class that inherits is called the derived class or child class.\n",
    "\n"
   ]
  },
  {
   "cell_type": "code",
   "execution_count": 55,
   "id": "ef985374",
   "metadata": {},
   "outputs": [
    {
     "name": "stdout",
     "output_type": "stream",
     "text": [
      "Buddy says Woof!\n",
      "Whiskers says Meow!\n"
     ]
    }
   ],
   "source": [
    "class Animal:\n",
    "    def __init__(self, name):\n",
    "        self.name = name\n",
    "\n",
    "    def speak(self):\n",
    "        pass\n",
    "\n",
    "class Dog(Animal):\n",
    "    def speak(self):\n",
    "        return f\"{self.name} says Woof!\"\n",
    "\n",
    "class Cat(Animal):\n",
    "    def speak(self):\n",
    "        return f\"{self.name} says Meow!\"\n",
    "\n",
    "dog = Dog(\"Buddy\")\n",
    "cat = Cat(\"Whiskers\")\n",
    "\n",
    "\n",
    "print(dog.speak())  \n",
    "print(cat.speak())  \n"
   ]
  },
  {
   "cell_type": "markdown",
   "id": "e129c95d",
   "metadata": {},
   "source": [
    "The __init__ method, also known as the \"dunder init\" (short for \"double underscore init\"), is a special method in Python. It serves as a constructor for a class and is automatically called when an instance of the class is created. The primary purpose of the __init__ method is to initialize the attributes (or properties) of an object. In other words, it sets the initial state of the object."
   ]
  },
  {
   "cell_type": "markdown",
   "id": "648057d1",
   "metadata": {},
   "source": [
    "## What is Instantiation in terms of OOP terminology?"
   ]
  },
  {
   "cell_type": "markdown",
   "id": "8be225b4",
   "metadata": {},
   "source": [
    "In object-oriented programming (OOP) terminology, instantiation refers to the process of creating an instance or object of a class. When you instantiate a class, you create a specific copy of that class, and this copy is referred to as an instance or an object.\n",
    "\n",
    "Here's a simplified breakdown of the terminology:\n",
    "\n",
    "Class: A class is a blueprint or template for creating objects. It defines the structure (attributes) and behavior (methods) that objects of that class will have.\n",
    "\n",
    "Instantiation: Instantiation is the act of creating an instance of a class. It involves taking the blueprint (class) and creating a specific object based on that blueprint. This object has its own set of attributes and can perform actions defined by the class's methods.\n",
    "\n",
    "Instance/Object: An instance or object is a specific copy of a class, created through instantiation. Each instance has its own set of attributes and can call the methods defined in the class."
   ]
  }
 ],
 "metadata": {
  "kernelspec": {
   "display_name": "Python 3 (ipykernel)",
   "language": "python",
   "name": "python3"
  },
  "language_info": {
   "codemirror_mode": {
    "name": "ipython",
    "version": 3
   },
   "file_extension": ".py",
   "mimetype": "text/x-python",
   "name": "python",
   "nbconvert_exporter": "python",
   "pygments_lexer": "ipython3",
   "version": "3.11.5"
  }
 },
 "nbformat": 4,
 "nbformat_minor": 5
}
